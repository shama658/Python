{
 "cells": [
  {
   "cell_type": "code",
   "execution_count": null,
   "metadata": {},
   "outputs": [],
   "source": [
    "#Random number guessing game. Number between 1 and 20. 6 guesses allowed.\n",
    "print(\"Hello, what is your name?\")\n",
    "name = input()\n",
    "print(\"Hello\", name, \"I am guessing a number between 1 and 20\")\n",
    "computer_guess = random.randint(1,20)\n",
    "for num_of_guesses in range(1, 7) :\n",
    "    print(\"Take a guess\")\n",
    "    player_guess = int(input())\n",
    "    if player_guess < computer_guess :\n",
    "        print(\"Your guess is too low\")\n",
    "    elif player_guess > computer_guess :\n",
    "        print(\"Your guess is too high\")\n",
    "    else :\n",
    "        break\n",
    "if player_guess == computer_guess :\n",
    "    print(\"Congrats, you guessed in \", str(num_of_guesses), \"guesses!\")\n",
    "else :\n",
    "    print(\"Sorry, the correct number was \", str(computer_guess))"
   ]
  }
 ],
 "metadata": {
  "kernelspec": {
   "display_name": "Python 3",
   "language": "python",
   "name": "python3"
  },
  "language_info": {
   "codemirror_mode": {
    "name": "ipython",
    "version": 3
   },
   "file_extension": ".py",
   "mimetype": "text/x-python",
   "name": "python",
   "nbconvert_exporter": "python",
   "pygments_lexer": "ipython3",
   "version": "3.7.6"
  }
 },
 "nbformat": 4,
 "nbformat_minor": 4
}
