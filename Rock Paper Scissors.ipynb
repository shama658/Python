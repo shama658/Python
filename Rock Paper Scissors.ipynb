{
 "cells": [
  {
   "cell_type": "code",
   "execution_count": 1,
   "metadata": {},
   "outputs": [],
   "source": [
    "import numpy as np\n",
    "import random"
   ]
  },
  {
   "cell_type": "code",
   "execution_count": null,
   "metadata": {},
   "outputs": [
    {
     "name": "stdout",
     "output_type": "stream",
     "text": [
      "Make a selection\n",
      "rock\n",
      "Your selection : rock\n",
      "Computer Selection : scissors\n",
      "You win!!\n",
      "Make a selection\n",
      "scissors\n",
      "Your selection : scissors\n",
      "Computer Selection : rock\n",
      "You lose!!\n",
      "Make a selection\n",
      "wsfcef\n",
      "Your selection : wsfcef\n",
      "Computer Selection : paper\n",
      "Invalid Selection!\n",
      "Make a selection\n",
      "ROCK\n",
      "Your selection : rock\n",
      "Computer Selection : scissors\n",
      "You win!!\n",
      "Make a selection\n"
     ]
    }
   ],
   "source": [
    "while True :\n",
    "    options = [\"rock\", \"paper\", \"scissors\"]\n",
    "    print(\"Make a selection\")\n",
    "    my_input = str(input()).lower()\n",
    "    print(\"Your selection :\", my_input)\n",
    "    computer_input = options[random.randint(0, len(options)-1)]\n",
    "    print(\"Computer Selection :\", computer_input)\n",
    "    if my_input in options :\n",
    "        if my_input == \"rock\" :\n",
    "                if computer_input == \"scissors\":\n",
    "                    print(\"You win!!\")\n",
    "                elif computer_input == \"paper\":\n",
    "                    print(\"You lose!!\")\n",
    "                else :\n",
    "                    print(\"It is a tie.\")\n",
    "        if my_input == \"paper\" :\n",
    "                if computer_input == \"rock\":\n",
    "                    print(\"You win!!\")\n",
    "                elif computer_input == \"scissors\":\n",
    "                    print(\"You lose!!\")\n",
    "                else :\n",
    "                    print(\"It is a tie.\")\n",
    "        if my_input == \"scissors\" :\n",
    "                if computer_input == \"paper\":\n",
    "                    print(\"You win!!\")\n",
    "                elif computer_input == \"rock\":\n",
    "                    print(\"You lose!!\")\n",
    "                else :\n",
    "                    print(\"It is a tie.\")\n",
    "    else :\n",
    "        print(\"Invalid Selection!\")"
   ]
  },
  {
   "cell_type": "code",
   "execution_count": null,
   "metadata": {},
   "outputs": [],
   "source": []
  }
 ],
 "metadata": {
  "kernelspec": {
   "display_name": "Python 3",
   "language": "python",
   "name": "python3"
  },
  "language_info": {
   "codemirror_mode": {
    "name": "ipython",
    "version": 3
   },
   "file_extension": ".py",
   "mimetype": "text/x-python",
   "name": "python",
   "nbconvert_exporter": "python",
   "pygments_lexer": "ipython3",
   "version": "3.7.6"
  }
 },
 "nbformat": 4,
 "nbformat_minor": 4
}
